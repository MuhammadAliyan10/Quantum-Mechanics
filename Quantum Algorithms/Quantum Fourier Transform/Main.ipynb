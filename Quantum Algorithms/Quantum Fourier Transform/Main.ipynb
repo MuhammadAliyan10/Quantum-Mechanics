{
 "cells": [
  {
   "cell_type": "code",
   "execution_count": 1,
   "metadata": {},
   "outputs": [],
   "source": [
    "from qiskit import QuantumCircuit\n",
    "import numpy as np"
   ]
  },
  {
   "cell_type": "code",
   "execution_count": 2,
   "metadata": {},
   "outputs": [],
   "source": [
    "def QFT(n):\n",
    "  qc = QuantumCircuit(n)\n",
    "  for qubit in range(n):\n",
    "    qc.h(qubit)\n",
    "    for k in range(qubit + 1, n):\n",
    "      angle = 2 * np.pi / (2 ** (k - qubit + 1))\n",
    "      qc.cp(angle, k , qubit)\n",
    "  for qubit in range(n // 2):\n",
    "    qc.swap(qubit, n - qubit - 1)\n",
    "  return qc"
   ]
  },
  {
   "cell_type": "code",
   "execution_count": 3,
   "metadata": {},
   "outputs": [
    {
     "name": "stdout",
     "output_type": "stream",
     "text": [
      "     ┌───┐                                        \n",
      "q_0: ┤ H ├─■────────■───────────────────────────X─\n",
      "     └───┘ │P(π/2)  │       ┌───┐               │ \n",
      "q_1: ──────■────────┼───────┤ H ├─■─────────────┼─\n",
      "                    │P(π/4) └───┘ │P(π/2) ┌───┐ │ \n",
      "q_2: ───────────────■─────────────■───────┤ H ├─X─\n",
      "                                          └───┘   \n"
     ]
    }
   ],
   "source": [
    "n = 3\n",
    "qft_circuit = QFT(n)\n",
    "print(qft_circuit)"
   ]
  },
  {
   "cell_type": "code",
   "execution_count": null,
   "metadata": {},
   "outputs": [],
   "source": []
  }
 ],
 "metadata": {
  "kernelspec": {
   "display_name": "venv",
   "language": "python",
   "name": "python3"
  },
  "language_info": {
   "codemirror_mode": {
    "name": "ipython",
    "version": 3
   },
   "file_extension": ".py",
   "mimetype": "text/x-python",
   "name": "python",
   "nbconvert_exporter": "python",
   "pygments_lexer": "ipython3",
   "version": "3.10.12"
  }
 },
 "nbformat": 4,
 "nbformat_minor": 2
}
