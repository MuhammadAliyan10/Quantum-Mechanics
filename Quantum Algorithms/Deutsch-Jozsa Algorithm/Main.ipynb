{
 "cells": [
  {
   "cell_type": "code",
   "execution_count": 23,
   "metadata": {},
   "outputs": [],
   "source": [
    "from qiskit import QuantumCircuit\n",
    "from qiskit_aer import AerSimulator"
   ]
  },
  {
   "cell_type": "code",
   "execution_count": 24,
   "metadata": {},
   "outputs": [
    {
     "data": {
      "text/plain": [
       "<qiskit.circuit.instructionset.InstructionSet at 0x1111fcee0>"
      ]
     },
     "execution_count": 24,
     "metadata": {},
     "output_type": "execute_result"
    }
   ],
   "source": [
    "qc = QuantumCircuit(4, 3)\n",
    "qc.x(3)"
   ]
  },
  {
   "cell_type": "code",
   "execution_count": 25,
   "metadata": {},
   "outputs": [
    {
     "data": {
      "text/plain": [
       "<qiskit.circuit.instructionset.InstructionSet at 0x1111fd540>"
      ]
     },
     "execution_count": 25,
     "metadata": {},
     "output_type": "execute_result"
    }
   ],
   "source": [
    "qc.h(range(4))"
   ]
  },
  {
   "cell_type": "code",
   "execution_count": 26,
   "metadata": {},
   "outputs": [
    {
     "data": {
      "text/plain": [
       "<qiskit.circuit.instructionset.InstructionSet at 0x1111fd630>"
      ]
     },
     "execution_count": 26,
     "metadata": {},
     "output_type": "execute_result"
    }
   ],
   "source": [
    "qc.cx(0, 3)"
   ]
  },
  {
   "cell_type": "code",
   "execution_count": 27,
   "metadata": {},
   "outputs": [
    {
     "data": {
      "text/plain": [
       "<qiskit.circuit.instructionset.InstructionSet at 0x1111fd570>"
      ]
     },
     "execution_count": 27,
     "metadata": {},
     "output_type": "execute_result"
    }
   ],
   "source": [
    "qc.h(range(3))"
   ]
  },
  {
   "cell_type": "code",
   "execution_count": 28,
   "metadata": {},
   "outputs": [
    {
     "data": {
      "text/plain": [
       "<qiskit.circuit.instructionset.InstructionSet at 0x1111fd210>"
      ]
     },
     "execution_count": 28,
     "metadata": {},
     "output_type": "execute_result"
    }
   ],
   "source": [
    "qc.measure(range(3), range(3))"
   ]
  },
  {
   "cell_type": "code",
   "execution_count": 29,
   "metadata": {},
   "outputs": [
    {
     "data": {
      "text/html": [
       "<pre style=\"word-wrap: normal;white-space: pre;background: #fff0;line-height: 1.1;font-family: &quot;Courier New&quot;,Courier,monospace\">     ┌───┐          ┌───┐   ┌─┐\n",
       "q_0: ┤ H ├───────■──┤ H ├───┤M├\n",
       "     ├───┤┌───┐  │  └┬─┬┘   └╥┘\n",
       "q_1: ┤ H ├┤ H ├──┼───┤M├─────╫─\n",
       "     ├───┤├───┤  │   └╥┘ ┌─┐ ║ \n",
       "q_2: ┤ H ├┤ H ├──┼────╫──┤M├─╫─\n",
       "     ├───┤├───┤┌─┴─┐  ║  └╥┘ ║ \n",
       "q_3: ┤ X ├┤ H ├┤ X ├──╫───╫──╫─\n",
       "     └───┘└───┘└───┘  ║   ║  ║ \n",
       "c: 3/═════════════════╩═══╩══╩═\n",
       "                      1   2  0 </pre>"
      ],
      "text/plain": [
       "     ┌───┐          ┌───┐   ┌─┐\n",
       "q_0: ┤ H ├───────■──┤ H ├───┤M├\n",
       "     ├───┤┌───┐  │  └┬─┬┘   └╥┘\n",
       "q_1: ┤ H ├┤ H ├──┼───┤M├─────╫─\n",
       "     ├───┤├───┤  │   └╥┘ ┌─┐ ║ \n",
       "q_2: ┤ H ├┤ H ├──┼────╫──┤M├─╫─\n",
       "     ├───┤├───┤┌─┴─┐  ║  └╥┘ ║ \n",
       "q_3: ┤ X ├┤ H ├┤ X ├──╫───╫──╫─\n",
       "     └───┘└───┘└───┘  ║   ║  ║ \n",
       "c: 3/═════════════════╩═══╩══╩═\n",
       "                      1   2  0 "
      ]
     },
     "execution_count": 29,
     "metadata": {},
     "output_type": "execute_result"
    }
   ],
   "source": [
    "qc.draw()"
   ]
  },
  {
   "cell_type": "code",
   "execution_count": 30,
   "metadata": {},
   "outputs": [],
   "source": [
    "simulator = AerSimulator()\n",
    "result = simulator.run(qc, shots=1024).result()\n",
    "counts = result.get_counts()"
   ]
  },
  {
   "cell_type": "code",
   "execution_count": 31,
   "metadata": {},
   "outputs": [
    {
     "name": "stdout",
     "output_type": "stream",
     "text": [
      "The function is Balanced\n"
     ]
    }
   ],
   "source": [
    "print(\"The function is\", \"Constant\" if '000' in counts else \"Balanced\")"
   ]
  },
  {
   "cell_type": "code",
   "execution_count": null,
   "metadata": {},
   "outputs": [],
   "source": []
  }
 ],
 "metadata": {
  "kernelspec": {
   "display_name": "venv",
   "language": "python",
   "name": "python3"
  },
  "language_info": {
   "codemirror_mode": {
    "name": "ipython",
    "version": 3
   },
   "file_extension": ".py",
   "mimetype": "text/x-python",
   "name": "python",
   "nbconvert_exporter": "python",
   "pygments_lexer": "ipython3",
   "version": "3.10.12"
  }
 },
 "nbformat": 4,
 "nbformat_minor": 2
}
