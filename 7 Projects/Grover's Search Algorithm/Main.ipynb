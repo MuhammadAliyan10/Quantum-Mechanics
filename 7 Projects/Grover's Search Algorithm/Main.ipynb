{
 "cells": [
  {
   "cell_type": "code",
   "execution_count": 38,
   "metadata": {},
   "outputs": [],
   "source": [
    "from qiskit import QuantumCircuit\n",
    "from qiskit_aer import AerSimulator\n",
    "import matplotlib.pyplot as plt\n",
    "import numpy as np"
   ]
  },
  {
   "cell_type": "code",
   "execution_count": 39,
   "metadata": {},
   "outputs": [],
   "source": [
    "def groverSearch(target):\n",
    "    n_qubits = len(target)\n",
    "    qc = QuantumCircuit(n_qubits, n_qubits)\n",
    "    for i in range(n_qubits):\n",
    "        qc.h(i)\n",
    "    iteration = int(np.pi/4 * np.sqrt(2**n_qubits))\n",
    "    for _ in range(iteration):\n",
    "        target_int = int(target, 2)\n",
    "        binary = bin(target_int)[2:].zfill(n_qubits)\n",
    "        for i, bit in enumerate(binary):\n",
    "            if bit == '0':\n",
    "                qc.x(i)\n",
    "        if n_qubits > 1:\n",
    "            qc.h(n_qubits-1)\n",
    "            qc.mcx(list(range(n_qubits-1)), n_qubits-1)\n",
    "            qc.h(n_qubits-1)\n",
    "        else:\n",
    "            qc.z(0)\n",
    "        for i, bit in enumerate(binary):\n",
    "            if bit == '0':\n",
    "                qc.x(i)\n",
    "        for i in range(n_qubits):\n",
    "            qc.h(i)\n",
    "            qc.x(i)\n",
    "        if n_qubits > 1:\n",
    "            qc.h(n_qubits-1)\n",
    "            qc.mcx(list(range(n_qubits-1)), n_qubits-1)\n",
    "            qc.h(n_qubits-1)\n",
    "        else:\n",
    "            qc.z(0)\n",
    "        for i in range(n_qubits):\n",
    "            qc.x(i)\n",
    "            qc.h(i)\n",
    "\n",
    "    qc.measure(range(n_qubits), range(n_qubits))\n",
    "    backend = AerSimulator()\n",
    "    job = backend.run(qc, shots=1024)\n",
    "    result = job.result()\n",
    "    counts = result.get_counts()\n",
    "    max_state = max(counts, key=counts.get)\n",
    "    return max_state"
   ]
  },
  {
   "cell_type": "code",
   "execution_count": 40,
   "metadata": {},
   "outputs": [
    {
     "name": "stdout",
     "output_type": "stream",
     "text": [
      "Grover's algorithm found the target state: 100\n"
     ]
    }
   ],
   "source": [
    "target = input(\"Enter target binary string for Grover's (e.g., '11'): \")\n",
    "groverResult = groverSearch(target)\n",
    "print(f\"Grover's algorithm found the target state: {groverResult}\")"
   ]
  },
  {
   "cell_type": "code",
   "execution_count": 41,
   "metadata": {},
   "outputs": [
    {
     "data": {
      "image/png": "[encoded data removed]",
      "text/plain": [
       "<Figure size 600x400 with 1 Axes>"
      ]
     },
     "metadata": {},
     "output_type": "display_data"
    }
   ],
   "source": [
    "# Plot result\n",
    "plt.figure(figsize=(6, 4))\n",
    "plt.bar([0], [int(groverResult, 2)])\n",
    "plt.title(\"Grover's Search Result\")\n",
    "plt.ylabel('Found Value')\n",
    "plt.show()"
   ]
  }
 ],
 "metadata": {
  "kernelspec": {
   "display_name": "venv",
   "language": "python",
   "name": "python3"
  },
  "language_info": {
   "codemirror_mode": {
    "name": "ipython",
    "version": 3
   },
   "file_extension": ".py",
   "mimetype": "text/x-python",
   "name": "python",
   "nbconvert_exporter": "python",
   "pygments_lexer": "ipython3",
   "version": "3.10.12"
  }
 },
 "nbformat": 4,
 "nbformat_minor": 2
}
