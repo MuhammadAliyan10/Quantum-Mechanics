{
 "cells": [
  {
   "cell_type": "code",
   "execution_count": 40,
   "metadata": {},
   "outputs": [],
   "source": [
    "from qiskit import QuantumCircuit,transpile\n",
    "from qiskit_aer import AerSimulator\n",
    "from qiskit.visualization import plot_histogram"
   ]
  },
  {
   "cell_type": "code",
   "execution_count": 41,
   "metadata": {},
   "outputs": [],
   "source": [
    "dataset = [\"Alice\", \"Bob\", \"Charlie\", \"David\", \"Eve\", \"Frank\", \"Grace\", \"Heidi\",\n",
    "           \"Ivan\", \"Judy\", \"Kate\", \"Liam\", \"Mallory\", \"Nancy\", \"Oscar\", \"Peggy\",\n",
    "           \"Quinn\", \"Rose\", \"Steve\", \"Tina\"]"
   ]
  },
  {
   "cell_type": "code",
   "execution_count": 42,
   "metadata": {},
   "outputs": [],
   "source": [
    "target = input(\"Enter the name to find: \")\n",
    "if target not in dataset:\n",
    "    print(f\"Error: '{target}' not in dataset.\")\n",
    "    exit()\n"
   ]
  },
  {
   "cell_type": "code",
   "execution_count": 43,
   "metadata": {},
   "outputs": [],
   "source": [
    "n = 5\n",
    "aux = 1\n",
    "qc = QuantumCircuit(n + aux, n)"
   ]
  },
  {
   "cell_type": "code",
   "execution_count": 44,
   "metadata": {},
   "outputs": [
    {
     "data": {
      "text/plain": [
       "<qiskit.circuit.instructionset.InstructionSet at 0x10fb6bb80>"
      ]
     },
     "execution_count": 44,
     "metadata": {},
     "output_type": "execute_result"
    }
   ],
   "source": [
    "qc.h(range(n))"
   ]
  },
  {
   "cell_type": "code",
   "execution_count": 45,
   "metadata": {},
   "outputs": [],
   "source": [
    "iterations = 3\n",
    "for _ in range(iterations):\n",
    "    for idx, item in enumerate(dataset):\n",
    "        if item == target:\n",
    "            binary = format(idx, f'0{n}b')\n",
    "            for i, bit in enumerate(binary):\n",
    "                if bit == '0':\n",
    "                    qc.x(i)\n",
    "            qc.mcx(list(range(n)), n)\n",
    "            for i, bit in enumerate(binary):\n",
    "                if bit == '0':\n",
    "                    qc.x(i)\n",
    "\n",
    "    # Diffusion operator\n",
    "    qc.h(range(n))\n",
    "    qc.x(range(n))\n",
    "    qc.mcx(list(range(n)), n)\n",
    "    qc.x(range(n))\n",
    "    qc.h(range(n))\n"
   ]
  },
  {
   "cell_type": "code",
   "execution_count": 46,
   "metadata": {},
   "outputs": [
    {
     "data": {
      "text/plain": [
       "<qiskit.circuit.instructionset.InstructionSet at 0x10fb68190>"
      ]
     },
     "execution_count": 46,
     "metadata": {},
     "output_type": "execute_result"
    }
   ],
   "source": [
    "qc.measure(range(n), range(n))"
   ]
  },
  {
   "cell_type": "code",
   "execution_count": 47,
   "metadata": {},
   "outputs": [
    {
     "name": "stdout",
     "output_type": "stream",
     "text": [
      "     ┌───┐┌───┐     ┌───┐┌───┐┌───┐     ┌───┐┌───┐┌───┐     ┌───┐┌───┐┌───┐»\n",
      "q_0: ┤ H ├┤ X ├──■──┤ X ├┤ H ├┤ X ├──■──┤ X ├┤ H ├┤ X ├──■──┤ X ├┤ H ├┤ X ├»\n",
      "     ├───┤└───┘  │  ├───┤├───┤└───┘  │  ├───┤├───┤└───┘  │  ├───┤├───┤└───┘»\n",
      "q_1: ┤ H ├───────■──┤ H ├┤ X ├───────■──┤ X ├┤ H ├───────■──┤ H ├┤ X ├─────»\n",
      "     ├───┤       │  ├───┤├───┤       │  ├───┤├───┤       │  ├───┤├───┤     »\n",
      "q_2: ┤ H ├───────■──┤ H ├┤ X ├───────■──┤ X ├┤ H ├───────■──┤ H ├┤ X ├─────»\n",
      "     ├───┤       │  ├───┤├───┤       │  ├───┤├───┤       │  ├───┤├───┤     »\n",
      "q_3: ┤ H ├───────■──┤ H ├┤ X ├───────■──┤ X ├┤ H ├───────■──┤ H ├┤ X ├─────»\n",
      "     ├───┤┌───┐  │  ├───┤├───┤┌───┐  │  ├───┤├───┤┌───┐  │  ├───┤├───┤┌───┐»\n",
      "q_4: ┤ H ├┤ X ├──■──┤ X ├┤ H ├┤ X ├──■──┤ X ├┤ H ├┤ X ├──■──┤ X ├┤ H ├┤ X ├»\n",
      "     └───┘└───┘┌─┴─┐└───┘└───┘└───┘┌─┴─┐└───┘└───┘└───┘┌─┴─┐└───┘└───┘└───┘»\n",
      "q_5: ──────────┤ X ├───────────────┤ X ├───────────────┤ X ├───────────────»\n",
      "               └───┘               └───┘               └───┘               »\n",
      "c: 5/══════════════════════════════════════════════════════════════════════»\n",
      "                                                                           »\n",
      "«          ┌───┐┌───┐┌───┐     ┌───┐┌───┐┌───┐     ┌───┐┌───┐┌─┐            \n",
      "«q_0: ──■──┤ X ├┤ H ├┤ X ├──■──┤ X ├┤ H ├┤ X ├──■──┤ X ├┤ H ├┤M├────────────\n",
      "«       │  ├───┤├───┤└───┘  │  ├───┤├───┤└───┘  │  ├───┤├───┤└╥┘┌─┐         \n",
      "«q_1: ──■──┤ X ├┤ H ├───────■──┤ H ├┤ X ├───────■──┤ X ├┤ H ├─╫─┤M├─────────\n",
      "«       │  ├───┤├───┤       │  ├───┤├───┤       │  ├───┤├───┤ ║ └╥┘┌─┐      \n",
      "«q_2: ──■──┤ X ├┤ H ├───────■──┤ H ├┤ X ├───────■──┤ X ├┤ H ├─╫──╫─┤M├──────\n",
      "«       │  ├───┤├───┤       │  ├───┤├───┤       │  ├───┤├───┤ ║  ║ └╥┘┌─┐   \n",
      "«q_3: ──■──┤ X ├┤ H ├───────■──┤ H ├┤ X ├───────■──┤ X ├┤ H ├─╫──╫──╫─┤M├───\n",
      "«       │  ├───┤├───┤┌───┐  │  ├───┤├───┤┌───┐  │  ├───┤├───┤ ║  ║  ║ └╥┘┌─┐\n",
      "«q_4: ──■──┤ X ├┤ H ├┤ X ├──■──┤ X ├┤ H ├┤ X ├──■──┤ X ├┤ H ├─╫──╫──╫──╫─┤M├\n",
      "«     ┌─┴─┐└───┘└───┘└───┘┌─┴─┐└───┘└───┘└───┘┌─┴─┐└───┘└───┘ ║  ║  ║  ║ └╥┘\n",
      "«q_5: ┤ X ├───────────────┤ X ├───────────────┤ X ├───────────╫──╫──╫──╫──╫─\n",
      "«     └───┘               └───┘               └───┘           ║  ║  ║  ║  ║ \n",
      "«c: 5/════════════════════════════════════════════════════════╩══╩══╩══╩══╩═\n",
      "«                                                             0  1  2  3  4 \n"
     ]
    }
   ],
   "source": [
    "print(qc.draw())"
   ]
  },
  {
   "cell_type": "code",
   "execution_count": 48,
   "metadata": {},
   "outputs": [],
   "source": [
    "simulator = AerSimulator()\n",
    "transpiled_circuit = transpile(qc, simulator)\n",
    "job = simulator.run(transpiled_circuit, shots=1000)\n",
    "result = job.result()\n",
    "counts = result.get_counts()"
   ]
  },
  {
   "cell_type": "code",
   "execution_count": 49,
   "metadata": {},
   "outputs": [],
   "source": [
    "mapped_counts = {dataset[int(k, 2)]: v for k, v in counts.items() if int(k, 2) < len(dataset)}"
   ]
  },
  {
   "cell_type": "code",
   "execution_count": 50,
   "metadata": {},
   "outputs": [],
   "source": [
    "max_state = max(counts, key=counts.get)\n",
    "max_name = dataset[int(max_state, 2)] if int(max_state, 2) < len(dataset) else \"Invalid\""
   ]
  },
  {
   "cell_type": "code",
   "execution_count": 51,
   "metadata": {},
   "outputs": [
    {
     "name": "stdout",
     "output_type": "stream",
     "text": [
      "Most likely found: 'Oscar' (state: 01110)\n",
      "Mapped counts: {'Liam': 18, 'Rose': 16, 'Nancy': 15, 'Frank': 15, 'Steve': 20, 'Mallory': 16, 'Bob': 18, 'Charlie': 16, 'Peggy': 15, 'Oscar': 446, 'Tina': 18, 'Judy': 26, 'Eve': 17, 'Kate': 14, 'Heidi': 17, 'Grace': 22, 'Alice': 25, 'Quinn': 20, 'David': 14, 'Ivan': 18}\n"
     ]
    }
   ],
   "source": [
    "print(f\"Most likely found: '{max_name}' (state: {max_state})\")\n",
    "print(\"Mapped counts:\", mapped_counts)"
   ]
  },
  {
   "cell_type": "code",
   "execution_count": 52,
   "metadata": {},
   "outputs": [
    {
     "data": {
      "image/png": "[encoded data removed]",
      "text/plain": [
       "<Figure size 640x480 with 1 Axes>"
      ]
     },
     "execution_count": 52,
     "metadata": {},
     "output_type": "execute_result"
    }
   ],
   "source": [
    "plot_histogram(counts)"
   ]
  },
  {
   "cell_type": "code",
   "execution_count": null,
   "metadata": {},
   "outputs": [],
   "source": []
  }
 ],
 "metadata": {
  "kernelspec": {
   "display_name": "venv",
   "language": "python",
   "name": "python3"
  },
  "language_info": {
   "codemirror_mode": {
    "name": "ipython",
    "version": 3
   },
   "file_extension": ".py",
   "mimetype": "text/x-python",
   "name": "python",
   "nbconvert_exporter": "python",
   "pygments_lexer": "ipython3",
   "version": "3.10.12"
  }
 },
 "nbformat": 4,
 "nbformat_minor": 2
}
