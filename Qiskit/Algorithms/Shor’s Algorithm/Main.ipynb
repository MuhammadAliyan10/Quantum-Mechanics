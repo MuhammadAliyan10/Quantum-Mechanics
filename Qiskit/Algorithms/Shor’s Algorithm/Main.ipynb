{
 "cells": [
  {
   "cell_type": "code",
   "execution_count": 37,
   "metadata": {},
   "outputs": [],
   "source": [
    "from qiskit import QuantumCircuit, transpile\n",
    "from qiskit_aer import AerSimulator\n",
    "from qiskit.visualization import plot_histogram\n",
    "import math"
   ]
  },
  {
   "cell_type": "code",
   "execution_count": 38,
   "metadata": {},
   "outputs": [],
   "source": [
    "dataset = [2, 4, 7 ,8]\n",
    "N = 15"
   ]
  },
  {
   "cell_type": "code",
   "execution_count": 39,
   "metadata": {},
   "outputs": [
    {
     "name": "stdout",
     "output_type": "stream",
     "text": [
      "Choose a number from [2, 4, 7, 8]:\n"
     ]
    }
   ],
   "source": [
    "print(f\"Choose a number from {dataset}:\")\n",
    "a = int(input())"
   ]
  },
  {
   "cell_type": "code",
   "execution_count": 40,
   "metadata": {},
   "outputs": [],
   "source": [
    "if a not in dataset:\n",
    "    print(f\"Error: '{a}' not in {dataset}.\")\n",
    "    exit()\n",
    "if math.gcd(a, N) != 1:\n",
    "    print(f\"Error: {a} is not coprime with {N}.\")\n",
    "    exit()"
   ]
  },
  {
   "cell_type": "code",
   "execution_count": null,
   "metadata": {},
   "outputs": [],
   "source": [
    "n_count = 4\n",
    "n_work = 4\n",
    "qc = QuantumCircuit(n_count + n_work, n_count)"
   ]
  },
  {
   "cell_type": "code",
   "execution_count": 51,
   "metadata": {},
   "outputs": [],
   "source": [
    "for q in range(n_count):\n",
    "    qc.h(q)"
   ]
  },
  {
   "cell_type": "code",
   "execution_count": null,
   "metadata": {},
   "outputs": [],
   "source": [
    "for q in range(n_count):\n",
    "    power = 2 ** q\n",
    "    if a == 2:\n",
    "        qc.cx(q, n_count + (power % 4))\n",
    "    elif a == 4:\n",
    "        qc.cx(q, n_count + ((power * 2) % 4))\n",
    "    elif a == 7:\n",
    "        for _ in range(power % 4):\n",
    "            qc.cx(q, n_count)\n",
    "            qc.cx(q, n_count + 1)\n",
    "            qc.ccx(q, n_count, n_count + 2)\n",
    "            qc.ccx(q, n_count + 1, n_count + 3)\n",
    "    elif a == 8:\n",
    "        qc.cx(q, n_count + ((power * 3) % 4))"
   ]
  },
  {
   "cell_type": "code",
   "execution_count": null,
   "metadata": {},
   "outputs": [],
   "source": [
    "for i in range(n_count):\n",
    "    for j in range(i):\n",
    "        qc.cp(-math.pi / float(2 ** (i - j)), j, i)\n",
    "    qc.h(i)\n"
   ]
  },
  {
   "cell_type": "code",
   "execution_count": null,
   "metadata": {},
   "outputs": [
    {
     "data": {
      "text/plain": [
       "<qiskit.circuit.instructionset.InstructionSet at 0x114c3e4d0>"
      ]
     },
     "execution_count": 45,
     "metadata": {},
     "output_type": "execute_result"
    }
   ],
   "source": [
    "qc.measure(range(n_count), range(n_count))"
   ]
  },
  {
   "cell_type": "code",
   "execution_count": null,
   "metadata": {},
   "outputs": [],
   "source": [
    "simulator = AerSimulator()\n",
    "transpiled_circuit = transpile(qc, simulator)\n",
    "job = simulator.run(transpiled_circuit, shots=1000)\n",
    "result = job.result()\n",
    "counts = result.get_counts()"
   ]
  },
  {
   "cell_type": "code",
   "execution_count": null,
   "metadata": {},
   "outputs": [],
   "source": [
    "periods = []\n",
    "for state in counts:\n",
    "    measured = int(state, 2)\n",
    "    if measured == 0:\n",
    "        continue\n",
    "    for r in range(1, 2 ** n_count):\n",
    "        if any(abs((measured / (2 ** n_count)) - (k / r)) < 1 / (2 ** n_count) for k in range(r)):\n",
    "            periods.append(r)\n",
    "            break"
   ]
  },
  {
   "cell_type": "code",
   "execution_count": null,
   "metadata": {},
   "outputs": [],
   "source": [
    "factors = set()\n",
    "for r in periods:\n",
    "    if r % 2 == 0 and r != 0:\n",
    "        plus = math.gcd(a ** (r // 2) + 1, N)\n",
    "        minus = math.gcd(a ** (r // 2) - 1, N)\n",
    "        if plus != 1 and plus != N:\n",
    "            factors.add(plus)\n",
    "        if minus != 1 and minus != N:\n",
    "            factors.add(minus)\n"
   ]
  },
  {
   "cell_type": "code",
   "execution_count": null,
   "metadata": {},
   "outputs": [
    {
     "name": "stdout",
     "output_type": "stream",
     "text": [
      "Input a: 7\n",
      "Possible period(s): [8, 16]\n",
      "Factors of 15: set()\n"
     ]
    }
   ],
   "source": [
    "print(f\"Input a: {a}\")\n",
    "print(f\"Possible period(s): {periods}\")\n",
    "print(f\"Factors of {N}: {factors}\")"
   ]
  },
  {
   "cell_type": "code",
   "execution_count": 50,
   "metadata": {},
   "outputs": [
    {
     "data": {
      "image/png": "[encoded data removed]",
      "text/plain": [
       "<Figure size 640x480 with 1 Axes>"
      ]
     },
     "execution_count": 50,
     "metadata": {},
     "output_type": "execute_result"
    }
   ],
   "source": [
    "plot_histogram(counts)"
   ]
  }
 ],
 "metadata": {
  "kernelspec": {
   "display_name": "venv",
   "language": "python",
   "name": "python3"
  },
  "language_info": {
   "codemirror_mode": {
    "name": "ipython",
    "version": 3
   },
   "file_extension": ".py",
   "mimetype": "text/x-python",
   "name": "python",
   "nbconvert_exporter": "python",
   "pygments_lexer": "ipython3",
   "version": "3.10.12"
  }
 },
 "nbformat": 4,
 "nbformat_minor": 2
}
