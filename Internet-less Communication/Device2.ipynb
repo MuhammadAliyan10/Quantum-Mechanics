{
 "cells": [
  {
   "cell_type": "code",
   "execution_count": 27,
   "metadata": {},
   "outputs": [
    {
     "name": "stdout",
     "output_type": "stream",
     "text": [
      "Device 2 - Binary: 10, Number: 2\n"
     ]
    }
   ],
   "source": [
    "import json\n",
    "\n",
    "def binary_to_number(binary):\n",
    "\n",
    "    return int(binary, 2)\n",
    "\n",
    "with open(\"measurement_result.json\", \"r\") as f:\n",
    "    data = json.load(f)\n",
    "binary_result = data[\"binary_result\"]\n",
    "\n",
    "\n",
    "binary = binary_result[0] + binary_result[1]\n",
    "number = binary_to_number(binary)\n",
    "\n",
    "print(f\"Device 2 - Binary: {binary}, Number: {number}\")"
   ]
  },
  {
   "cell_type": "code",
   "execution_count": null,
   "metadata": {},
   "outputs": [],
   "source": []
  }
 ],
 "metadata": {
  "kernelspec": {
   "display_name": "venv",
   "language": "python",
   "name": "python3"
  },
  "language_info": {
   "codemirror_mode": {
    "name": "ipython",
    "version": 3
   },
   "file_extension": ".py",
   "mimetype": "text/x-python",
   "name": "python",
   "nbconvert_exporter": "python",
   "pygments_lexer": "ipython3",
   "version": "3.10.12"
  }
 },
 "nbformat": 4,
 "nbformat_minor": 2
}
